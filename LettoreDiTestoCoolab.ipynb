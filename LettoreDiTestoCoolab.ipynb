{
  "nbformat": 4,
  "nbformat_minor": 0,
  "metadata": {
    "colab": {
      "provenance": []
    },
    "kernelspec": {
      "name": "python3",
      "display_name": "Python 3"
    },
    "language_info": {
      "name": "python"
    }
  },
  "cells": [
    {
      "cell_type": "code",
      "source": [
        "!pip install gtts\n"
      ],
      "metadata": {
        "colab": {
          "base_uri": "https://localhost:8080/"
        },
        "id": "9YUO4EoGI-yQ",
        "outputId": "db1ac631-dcbf-4172-ef51-23f1fc8eb5ae"
      },
      "execution_count": 6,
      "outputs": [
        {
          "output_type": "stream",
          "name": "stdout",
          "text": [
            "Collecting gtts\n",
            "  Downloading gTTS-2.5.4-py3-none-any.whl.metadata (4.1 kB)\n",
            "Requirement already satisfied: requests<3,>=2.27 in /usr/local/lib/python3.10/dist-packages (from gtts) (2.32.3)\n",
            "Requirement already satisfied: click<8.2,>=7.1 in /usr/local/lib/python3.10/dist-packages (from gtts) (8.1.7)\n",
            "Requirement already satisfied: charset-normalizer<4,>=2 in /usr/local/lib/python3.10/dist-packages (from requests<3,>=2.27->gtts) (3.4.0)\n",
            "Requirement already satisfied: idna<4,>=2.5 in /usr/local/lib/python3.10/dist-packages (from requests<3,>=2.27->gtts) (3.10)\n",
            "Requirement already satisfied: urllib3<3,>=1.21.1 in /usr/local/lib/python3.10/dist-packages (from requests<3,>=2.27->gtts) (2.2.3)\n",
            "Requirement already satisfied: certifi>=2017.4.17 in /usr/local/lib/python3.10/dist-packages (from requests<3,>=2.27->gtts) (2024.8.30)\n",
            "Downloading gTTS-2.5.4-py3-none-any.whl (29 kB)\n",
            "Installing collected packages: gtts\n",
            "Successfully installed gtts-2.5.4\n"
          ]
        }
      ]
    },
    {
      "cell_type": "code",
      "execution_count": 9,
      "metadata": {
        "colab": {
          "base_uri": "https://localhost:8080/",
          "height": 145
        },
        "id": "5i7l5tdAI38V",
        "outputId": "25463079-97e9-480f-9c61-fe8f88049502"
      },
      "outputs": [
        {
          "output_type": "stream",
          "name": "stdout",
          "text": [
            "Inserisci il testo che desideri convertire in audio: ciao a tutti\n",
            "Audio generato e salvato come 'audio_generato.mp3'\n",
            "Riproduzione dell'audio...\n"
          ]
        },
        {
          "output_type": "display_data",
          "data": {
            "text/plain": [
              "<IPython.lib.display.Audio object>"
            ],
            "text/html": [
              "\n",
              "                <audio  controls=\"controls\" autoplay=\"autoplay\">\n",
              "                    <source src=\"data:audio/mpeg;base64,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\" type=\"audio/mpeg\" />\n",
              "                    Your browser does not support the audio element.\n",
              "                </audio>\n",
              "              "
            ]
          },
          "metadata": {}
        },
        {
          "output_type": "stream",
          "name": "stdout",
          "text": [
            "Download del file audio in corso...\n"
          ]
        },
        {
          "output_type": "display_data",
          "data": {
            "text/plain": [
              "<IPython.core.display.Javascript object>"
            ],
            "application/javascript": [
              "\n",
              "    async function download(id, filename, size) {\n",
              "      if (!google.colab.kernel.accessAllowed) {\n",
              "        return;\n",
              "      }\n",
              "      const div = document.createElement('div');\n",
              "      const label = document.createElement('label');\n",
              "      label.textContent = `Downloading \"${filename}\": `;\n",
              "      div.appendChild(label);\n",
              "      const progress = document.createElement('progress');\n",
              "      progress.max = size;\n",
              "      div.appendChild(progress);\n",
              "      document.body.appendChild(div);\n",
              "\n",
              "      const buffers = [];\n",
              "      let downloaded = 0;\n",
              "\n",
              "      const channel = await google.colab.kernel.comms.open(id);\n",
              "      // Send a message to notify the kernel that we're ready.\n",
              "      channel.send({})\n",
              "\n",
              "      for await (const message of channel.messages) {\n",
              "        // Send a message to notify the kernel that we're ready.\n",
              "        channel.send({})\n",
              "        if (message.buffers) {\n",
              "          for (const buffer of message.buffers) {\n",
              "            buffers.push(buffer);\n",
              "            downloaded += buffer.byteLength;\n",
              "            progress.value = downloaded;\n",
              "          }\n",
              "        }\n",
              "      }\n",
              "      const blob = new Blob(buffers, {type: 'application/binary'});\n",
              "      const a = document.createElement('a');\n",
              "      a.href = window.URL.createObjectURL(blob);\n",
              "      a.download = filename;\n",
              "      div.appendChild(a);\n",
              "      a.click();\n",
              "      div.remove();\n",
              "    }\n",
              "  "
            ]
          },
          "metadata": {}
        },
        {
          "output_type": "display_data",
          "data": {
            "text/plain": [
              "<IPython.core.display.Javascript object>"
            ],
            "application/javascript": [
              "download(\"download_b4cc83d4-5c1c-43c0-a42b-5494c8184f73\", \"audio_generato.mp3\", 9216)"
            ]
          },
          "metadata": {}
        }
      ],
      "source": [
        "from gtts import gTTS\n",
        "from IPython.display import Audio\n",
        "from google.colab import files\n",
        "\n",
        "# Input del testo da parte dell'utente\n",
        "testo_utente = input(\"Inserisci il testo che desideri convertire in audio: \")\n",
        "\n",
        "# Controlla che il testo non sia vuoto\n",
        "if not testo_utente.strip():\n",
        "    print(\"Errore: Il testo non può essere vuoto. Riprova.\")\n",
        "else:\n",
        "    # Genera il file audio\n",
        "    tts = gTTS(text=testo_utente, lang='it')\n",
        "    nome_file = \"audio_generato.mp3\"\n",
        "    tts.save(nome_file)\n",
        "    print(f\"Audio generato e salvato come '{nome_file}'\")\n",
        "\n",
        "    # Riproduce l'audio\n",
        "    print(\"Riproduzione dell'audio...\")\n",
        "    display(Audio(nome_file, autoplay=True))\n",
        "\n",
        "    # Opzione per il download\n",
        "    print(\"Download del file audio in corso...\")\n",
        "    files.download(nome_file)\n"
      ]
    }
  ]
}